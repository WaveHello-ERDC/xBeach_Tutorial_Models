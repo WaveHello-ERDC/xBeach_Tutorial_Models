{
 "cells": [
  {
   "cell_type": "markdown",
   "metadata": {},
   "source": [
    "# Info\n",
    "\n",
    "Setting up the model to recreate the oscillating basin from the non-hydrostatic manual <br>\n",
    "[Link to the manual](https://oss.deltares.nl/documents/4142077/4199062/non-hydrostatic_report_draft.pdf/eadc1aff-6e19-6e82-2747-3c11c30457ee?t=1624871720408)\n",
    "\n",
    "\n",
    "Testing the updated xBeach toolbox to see if it can create the non-hydrostatic model"
   ]
  },
  {
   "cell_type": "code",
   "execution_count": 248,
   "metadata": {},
   "outputs": [],
   "source": [
    "# import default modules\n",
    "import numpy as np\n",
    "from scipy import interpolate\n",
    "import matplotlib.pyplot as plt\n",
    "from mpl_toolkits.mplot3d import axes3d, Axes3D \n",
    "from matplotlib import cm\n",
    "import sys\n",
    "import os\n",
    "import subprocess\n",
    "\n",
    "# Set global constants\n",
    "PI = np.pi\n",
    "\n",
    "# method to import xbtools with try routine\n",
    "try:\n",
    "    import xbTools\n",
    "except ImportError:\n",
    "    print('**no xbTools installation found in environment, adding parent path of notebook to see if it works')\n",
    "    sys.path.append(r\"C:\\ERDC\\xbeach-toolbox\")"
   ]
  },
  {
   "cell_type": "code",
   "execution_count": 249,
   "metadata": {},
   "outputs": [],
   "source": [
    "## import xbeach tools\n",
    "#sys.path.append(os.path.abspath(os.path.join('..' )))\n",
    "\n",
    "from xbTools.grid.creation import xgrid, ygrid\n",
    "from xbTools.grid.extension import seaward_extend\n",
    "from xbTools.xbeachtools import XBeachModelSetup\n",
    "from xbTools.general.wave_functions import offshore_depth\n",
    "from xbTools.xbeachpost import XBeachModelAnalysis\n",
    "from xbTools.general.executing_runs import generate_batch_script"
   ]
  },
  {
   "cell_type": "code",
   "execution_count": 250,
   "metadata": {},
   "outputs": [],
   "source": [
    "def create_directory_if_not_exists(directory_path):\n",
    "    \"\"\"\n",
    "    Creates a directory if it does not already exist.\n",
    "    \n",
    "    Parameters:\n",
    "    directory_path (str): The path of the directory to create.\n",
    "    \"\"\"\n",
    "    if not os.path.exists(directory_path):\n",
    "        os.makedirs(directory_path)\n",
    "        print(f\"Directory '{directory_path}' created.\")\n",
    "    else:\n",
    "        print(f\"Directory '{directory_path}' already exists.\")\n",
    "\n",
    "def get_script_directory():\n",
    "    try:\n",
    "        # This will work if the script is run directly\n",
    "        script_path = os.path.abspath(__file__)\n",
    "    except NameError:\n",
    "        # This will work in an interactive environment like Jupyter\n",
    "        script_path = os.path.abspath('')\n",
    "    \n",
    "    return script_path"
   ]
  },
  {
   "cell_type": "markdown",
   "metadata": {},
   "source": [
    "### Import library functions"
   ]
  },
  {
   "cell_type": "code",
   "execution_count": 251,
   "metadata": {},
   "outputs": [],
   "source": [
    "sys.path.append(r\"C:\\ERDC\\tutorial_models\")\n",
    "\n",
    "from lib.solitary_funcs import (calc_L_scaling, calc_wave_speed, calc_surface_elevation,\n",
    "                                calc_u_vel, calc_v_vel, calc_depth_average_u)\n"
   ]
  },
  {
   "cell_type": "markdown",
   "metadata": {},
   "source": [
    "### Define the model parameters"
   ]
  },
  {
   "cell_type": "code",
   "execution_count": 252,
   "metadata": {},
   "outputs": [],
   "source": [
    "# Define model parameters\n",
    "nx = 16000\n",
    "model_time = 40\n",
    "\n",
    "# Setting the analytical solution time higher than the model time to see if the jump goes away\n",
    "analy_time = 45\n",
    "num_analy_times = 1000\n",
    "# Define paramters for analytical solution\n",
    "epsilon = 0.1\n",
    "g  = 9.81\n",
    "d0 = 1.0\n"
   ]
  },
  {
   "cell_type": "markdown",
   "metadata": {},
   "source": [
    "### Setup the model directories"
   ]
  },
  {
   "cell_type": "code",
   "execution_count": 253,
   "metadata": {},
   "outputs": [
    {
     "name": "stdout",
     "output_type": "stream",
     "text": [
      "Directory 'c:\\ERDC\\tutorial_models\\solitary_wave\\6_sol_wave_t_stop_40_CFL_075_viscosity_0_epsilon_test\\epsilon_01' created.\n",
      "Script directory is: c:\\ERDC\\tutorial_models\\solitary_wave\\6_sol_wave_t_stop_40_CFL_075_viscosity_0_epsilon_test\n"
     ]
    }
   ],
   "source": [
    "# Get the folder of the current script\n",
    "script_dir = get_script_directory()\n",
    "\n",
    "# Make the epsilon value into a string and remove the \".\"\n",
    "epsilon_str = str(epsilon).replace(\".\", \"\")\n",
    "\n",
    "# Generate the model directory\n",
    "model_dir = os.path.join(script_dir, f\"epsilon_{epsilon_str}\")\n",
    "\n",
    "create_directory_if_not_exists(model_dir)\n",
    "\n",
    "exe_path = r\"C:\\ERDC\\tutorial_models\\XBeach_1.24.6057_Halloween_win64_netcdf\\xbeach.exe\"\n",
    "\n",
    "# Make the batch file in the model dir\n",
    "generate_batch_script(model_dir, r\"..\\..\\..\\XBeach_1.24.6057_Halloween_win64_netcdf\\xbeach.exe\", batch_file_name = \"run_model.bat\", \n",
    "                      include_cd = False, batch_file_folder = None)\n",
    "\n",
    "\n",
    "batch_file_path = os.path.join(model_dir, \"run_model.bat\")\n",
    "\n",
    "print(\"Script directory is: {}\".format(script_dir))"
   ]
  },
  {
   "cell_type": "markdown",
   "metadata": {},
   "source": [
    "### Calc the analytical solution"
   ]
  },
  {
   "cell_type": "code",
   "execution_count": 254,
   "metadata": {},
   "outputs": [
    {
     "name": "stdout",
     "output_type": "stream",
     "text": [
      "Scaling wave lengths: 7.953925506456178\n",
      "Channel Lengths: 795.3925506456178\n",
      "x0 Locations: -15.907851012912356\n",
      "Wave speed: 3.2841662030181356\n"
     ]
    }
   ],
   "source": [
    "# Model parameters\n",
    "# The model domain length and simulation time also change with the incident wave height\n",
    "\n",
    "L_sol = calc_L_scaling(epsilon, delta_scaling=1/20) # Length of the solitary wave\n",
    "model_length = 100 * L_sol                             # Length of the domain\n",
    "x0 = -2 * L_sol                                     # Initial x-offset\n",
    "\n",
    "c = calc_wave_speed(g, epsilon, d0)\n",
    "\n",
    "print(\"Scaling wave lengths: {}\".format(L_sol))\n",
    "print(\"Channel Lengths: {}\".format(model_length))\n",
    "print(\"x0 Locations: {}\".format(x0))\n",
    "print(\"Wave speed: {}\".format(c))"
   ]
  },
  {
   "cell_type": "code",
   "execution_count": 255,
   "metadata": {},
   "outputs": [],
   "source": [
    "# Set the index for the current wave\n",
    "index = 0\n",
    "\n",
    "# Select the time arr\n",
    "time = np.linspace(0, analy_time, num_analy_times)\n",
    "\n",
    "x_location = 0.0\n",
    "# Calc the x velocity\n",
    "u_vel = calc_u_vel(epsilon, x0 = x0, x = x_location, y = d0, t = time, g = g, d0 = d0)\n",
    "\n",
    "# Calc the y velocity\n",
    "v_vel = calc_v_vel(epsilon, x0 = x0, x = x_location, y = d0, t = time, g = g, d0 = d0)\n",
    "\n",
    "# Calc the water surface elevation\n",
    "eta = calc_surface_elevation(epsilon, x0, x= x_location, t = time, g = g, d0 = d0)\n",
    "\n",
    "# Calc the average u velocity\n",
    "u_avg = calc_depth_average_u(epsilon, x0, x = x_location, t = time, g = g, d0 = d0)"
   ]
  },
  {
   "cell_type": "code",
   "execution_count": 256,
   "metadata": {},
   "outputs": [],
   "source": [
    "# Calc an average V-Velocity to facilate testing\n",
    "\n",
    "# Init variable to hold the average\n",
    "v_avg = 0\n",
    "\n",
    "# Set a tolerance for how much the velocity changes by\n",
    "num_depths = 100\n",
    "\n",
    "# Make an array to hold the depths the v-velocity should be calculated at\n",
    "depths = np.linspace(0, d0, num_depths)\n",
    "\n",
    "for depth in depths:\n",
    "    # Calc the v-velocity and sum it\n",
    "    v_avg += calc_v_vel(epsilon, x0 = x0, x = x_location, \n",
    "                        y = depth, t = time, g = g, d0 = d0)\n",
    "\n",
    "# Average the value\n",
    "v_avg= v_avg/num_depths"
   ]
  },
  {
   "cell_type": "code",
   "execution_count": 257,
   "metadata": {},
   "outputs": [
    {
     "data": {
      "image/png": "[encoded data removed]",
      "text/plain": [
       "<Figure size 640x480 with 1 Axes>"
      ]
     },
     "metadata": {},
     "output_type": "display_data"
    }
   ],
   "source": [
    "plt.plot(time, v_vel)\n",
    "plt.plot(time, v_avg, label = \"average\")\n",
    "\n",
    "plt.title(\"V-Velocity at the surface vs. the depth averaged value\")\n",
    "plt.xlabel(\"Time (s)\")\n",
    "plt.ylabel(\"V-Velocity (m/s)\")\n",
    "plt.legend()\n",
    "plt.show()"
   ]
  },
  {
   "cell_type": "markdown",
   "metadata": {},
   "source": [
    "### Generate the mesh"
   ]
  },
  {
   "cell_type": "code",
   "execution_count": 258,
   "metadata": {},
   "outputs": [],
   "source": [
    "# Generate the x-mesh\n",
    "xgr = np.linspace(0, model_length, nx+1)\n",
    "\n",
    "# Set the y-mesh as none since the model is 1D\n",
    "ygr = None\n",
    "\n",
    "# Generate the bathymetry\n",
    "floor_depth = 0.0\n",
    "zgr = np.ones(nx + 1) * floor_depth"
   ]
  },
  {
   "cell_type": "markdown",
   "metadata": {},
   "source": [
    "### Create the model setup\n",
    "Generating the model setup using the xBeach toolbox"
   ]
  },
  {
   "cell_type": "code",
   "execution_count": 259,
   "metadata": {},
   "outputs": [],
   "source": [
    "xb_setup = XBeachModelSetup('test')\n",
    "\n",
    "xb_setup.set_grid(xgr, ygr, zgr, posdwn=-1, alfa=0)\n",
    "xb_setup.set_nebed(np.ones_like(zgr))\n",
    "xb_setup.set_friction(np.ones_like(zgr))"
   ]
  },
  {
   "cell_type": "code",
   "execution_count": 260,
   "metadata": {},
   "outputs": [],
   "source": [
    "boun_U_dict = {\"make_file\": True,\n",
    "               \"file_name\": \"boun_U.bcf\",\n",
    "               \"dimension\": \"vector\",\n",
    "               \"variable_dict\": {\n",
    "                   \"t\" : time,\n",
    "                   \"U\" : u_avg, # NOTE: Changed these to surface velocities \n",
    "                   \"W\" : v_avg,\n",
    "                   \"zs\": eta - d0 # Pertubation from the intial water surface\n",
    "               }         \n",
    "}\n",
    "\n",
    "xb_setup.set_waves('ts_nonh', input_struct=boun_U_dict, num_deci_dig=10)\n"
   ]
  },
  {
   "cell_type": "code",
   "execution_count": 261,
   "metadata": {},
   "outputs": [
    {
     "name": "stdout",
     "output_type": "stream",
     "text": [
      "The following params were not found in the JSON: \n",
      "{'nonh': 1}\n"
     ]
    }
   ],
   "source": [
    "xb_setup.set_params({\"wbctype\"      : \"ts_nonh\",\n",
    "                     'wavemodel'    : 'nonh',\n",
    "                     'nonh'         : 1,\n",
    "                     'CFL'          : 0.75,\n",
    "                     'nonhq3d'      : 1,\n",
    "                     'nhlay'        : 0.33, \n",
    "                     'viscosity'    : 0, \n",
    "                     'lwave'        : 0, \n",
    "                     'bedfriccoef'  : 0.0,\n",
    "                     'morphology'   : 0,\n",
    "                     'zs0'          : 1,\n",
    "                     'order'        : 1,\n",
    "                     'ARC'          : 1, \n",
    "                     'front'        : \"nonh_1d\", 'back'         : \"abs_1d\" ,\n",
    "                     'left'         : \"neumann\", 'right'        : \"neumann\",\n",
    "\n",
    "                     'tstop'        : model_time,\n",
    "                     \n",
    "                     \"tintm\"        : 0.1,\n",
    "                     \"tintp\"        : 0.1,\n",
    "                     \"tintg\"        : 0.1,\n",
    "                     'nglobalvar'   : ['zs', 'zb', 'H'],\n",
    "})\n"
   ]
  },
  {
   "cell_type": "code",
   "execution_count": 262,
   "metadata": {},
   "outputs": [
    {
     "data": {
      "text/plain": [
       "{'par': {'nonh': 1},\n",
       " 'Wave boundary condition parameters': {'wbctype': 'ts_nonh'},\n",
       " 'Physical processes': {'wavemodel': 'nonh',\n",
       "  'viscosity': 0,\n",
       "  'lwave': 0,\n",
       "  'morphology': 0},\n",
       " 'Model time': {'CFL': 0.75, 'tstop': 40},\n",
       " 'Non-hydrostatic correction parameters': {'nonhq3d': 1, 'nhlay': 0.33},\n",
       " 'Flow parameters': {'bedfriccoef': 0.0},\n",
       " 'Tide boundary conditions': {'zs0': 1},\n",
       " 'Flow boundary condition parameters': {'order': 1,\n",
       "  'ARC': 1,\n",
       "  'front': 'nonh_1d',\n",
       "  'back': 'abs_1d',\n",
       "  'left': 'neumann',\n",
       "  'right': 'neumann'},\n",
       " 'Output': {'tintm': 0.1, 'tintp': 0.1, 'tintg': 0.1},\n",
       " '_Output': {'nglobalvar': ['zs', 'zb', 'H']}}"
      ]
     },
     "execution_count": 262,
     "metadata": {},
     "output_type": "execute_result"
    }
   ],
   "source": [
    "xb_setup.input_par"
   ]
  },
  {
   "cell_type": "code",
   "execution_count": 263,
   "metadata": {},
   "outputs": [
    {
     "name": "stdout",
     "output_type": "stream",
     "text": [
      "Data written to c:\\ERDC\\tutorial_models\\solitary_wave\\6_sol_wave_t_stop_40_CFL_075_viscosity_0_epsilon_test\\epsilon_01\\boun_U.bcf\n"
     ]
    }
   ],
   "source": [
    "xb_setup.write_model(model_dir, num_dec_dig=10)"
   ]
  },
  {
   "cell_type": "markdown",
   "metadata": {},
   "source": [
    "### Run and analyze the model"
   ]
  },
  {
   "cell_type": "code",
   "execution_count": 264,
   "metadata": {},
   "outputs": [
    {
     "name": "stdout",
     "output_type": "stream",
     "text": [
      "Batch file 'c:\\ERDC\\tutorial_models\\solitary_wave\\6_sol_wave_t_stop_40_CFL_075_viscosity_0_epsilon_test\\epsilon_01\\run_model.bat' executed successfully.\n",
      "Output:\n",
      "\n",
      "(ERDC) c:\\ERDC\\tutorial_models\\solitary_wave\\6_sol_wave_t_stop_40_CFL_075_viscosity_0_epsilon_test\\epsilon_01>call \"..\\..\\..\\XBeach_1.24.6057_Halloween_win64_netcdf\\xbeach.exe\" \n",
      "  **********************************************************\n",
      "                     Welcome to XBeach\n",
      " \n",
      "  version 1.24.6057-Halloween\n",
      "               date2023/10/30 17:54:23\n",
      "     URL:https://svn.oss.deltares.nl/repos/xbeach/tags/2023-10-31-XBeach-v1.24.6\n",
      " 057-Halloween_BETA/src/xbeachlibrary\n",
      "  **********************************************************\n",
      " \n",
      "  Simulation started: YYYYMMDD    hh:mm:ss     time zone (UTC)\n",
      "                      20240628  10:51:12     -0500\n",
      " \n",
      "  General Input Module\n",
      "  Reading input parameters:\n",
      "   XBeach reading fromparams.txt\n",
      "  --------------------------------\n",
      "  Backward compatibility:\n",
      "                      nonh =1\n",
      "  --------------------------------\n",
      "  Physical processes:\n",
      "                 wavemodel =nonh\n",
      "                    cyclic =0 (no record found, default value used)\n",
      "                     swave =0 (no record found, default value used)\n",
      "                     lwave =0\n",
      "                      flow =1 (no record found, default value used)\n",
      "                  sedtrans =0 (no record found, default value used)\n",
      "                morphology =0\n",
      "               avalanching =0 (no record found, default value used)\n",
      "                    gwflow =0 (no record found, default value used)\n",
      "                     ships =0 (no record found, default value used)\n",
      "                vegetation =0 (no record found, default value used)\n",
      "                  setbathy =0 (no record found, default value used)\n",
      "                 viscosity =0\n",
      "                 advection =1 (no record found, default value used)\n",
      "                      wind =0 (no record found, default value used)\n",
      "  --------------------------------\n",
      "  Grid parameters:\n",
      "                  gridform =xbeach (no record found, default value used)\n",
      "                      xori =.0000\n",
      "                      yori =.0000\n",
      "                      alfa =.0000\n",
      "  Warning: variable nx16000 > recommended value of10000\n",
      "                        ny =0\n",
      "                    posdwn =-1.0000\n",
      "                   depfile =bed.dep\n",
      "                     vardx =1\n",
      "                        dx =-1.0000 (no record found, default value used)\n",
      "                        dy =-1.0000 (no record found, default value used)\n",
      "                     xfile =x.grd\n",
      "                     yfile = None specified\n",
      "                        nz =1 (no record found, default value used)\n",
      "  --------------------------------\n",
      "  Model time parameters:\n",
      "                       CFL =.7500\n",
      "                     dtset =.0000 (no record found, default value used)\n",
      "                     tstop =40.0000\n",
      "                  maxdtfac =500.0000 (no record found, default value used)\n",
      "  --------------------------------\n",
      "  Physical constants:\n",
      "                       rho =1025.0000 (no record found, default value used)\n",
      "                         g =9.8100 (no record found, default value used)\n",
      "                depthscale =1.0000 (no record found, default value used)\n",
      "  --------------------------------\n",
      "  Initial conditions:\n",
      "                zsinitfile = None specified\n",
      "  --------------------------------\n",
      "  Wave boundary condition parameters:\n",
      "                   wbctype =ts_nonh\n",
      "                     taper =100.0000 (no record found, default value used)\n",
      "                      nmax =.8000 (no record found, default value used)\n",
      "               lateralwave =neumann (no record found, default value used)\n",
      "  --------------------------------\n",
      "  Flow boundary condition parameters:\n",
      "                     front =nonh_1d\n",
      "                      left =neumann\n",
      "                     right =neumann\n",
      "                      back =abs_1d\n",
      "                       ARC =1\n",
      "                     order =1.0000\n",
      "                  highcomp =0 (no record found, default value used)\n",
      "                  freewave =0 (no record found, default value used)\n",
      "                      epsi =-1.0000 (no record found, default value used)\n",
      "                  tidetype =velocity (no record found, default value used)\n",
      "  --------------------------------\n",
      "  Tide boundary conditions:\n",
      "                   tideloc =0 (no record found, default value used)\n",
      "                       zs0 =1.0000\n",
      "  --------------------------------\n",
      "  Discharge boundary conditions:\n",
      "            disch_loc_file = None specified\n",
      "     disch_timeseries_file = None specified\n",
      "                ndischarge =0 (no record found, default value used)\n",
      "               ntdischarge =0 (no record found, default value used)\n",
      "                      beta =.0800 (no record found, default value used)\n",
      "  --------------------------------\n",
      "  Flow parameters:\n",
      "               bedfriction =manning (no record found, default value used)\n",
      "               bedfricfile = None specified\n",
      "               bedfriccoef =.0000 Warning: value < recommended value of.0100\n",
      "                     maxcf =.0400 (no record found, default value used)\n",
      "                     mincf =.0000 (no record found, default value used)\n",
      "                       nuh =.1000 (no record found, default value used)\n",
      "                    nuhfac =.0000 (no record found, default value used)\n",
      "                      smag =1 (no record found, default value used)\n",
      "  --------------------------------\n",
      "  Coriolis force parameters:\n",
      "                    wearth =.0417 (no record found, default value used)\n",
      "                       lat =.0000 (no record found, default value used)\n",
      "  --------------------------------\n",
      "  Non-hydrostatic correction parameters:\n",
      "                    solver =tridiag (no record found, default value used)\n",
      "                     kdmin =.0000 (no record found, default value used)\n",
      "                      Topt =10.0000 (no record found, default value used)\n",
      "                   nonhq3d =1\n",
      "                 nhbreaker =1 (no record found, default value used)\n",
      "                     nhlay =.3300\n",
      "              breakviscfac =1.5000 (no record found, default value used)\n",
      "                maxbrsteep =.4000 (no record found, default value used)\n",
      "               reformsteep =.1000 (no record found, default value used)\n",
      "  --------------------------------\n",
      "  Bed composition parameters:\n",
      "                       ngd =1 (no record found, default value used)\n",
      "                        nd =3 (no record found, default value used)\n",
      "                       por =.4000 (no record found, default value used)\n",
      "   D50 =.0002 (no record found, default value used)\n",
      "   D90 =.0003 (no record found, default value used)\n",
      "  --------------------------------\n",
      "  Output variables:\n",
      "                   timings =1 (no record found, default value used)\n",
      "                    tunits = None specified\n",
      "                    tstart =.0000 (no record found, default value used)\n",
      "                      tint =900.0000 (no record found, default value used)\n",
      "                  tsglobal = None specified\n",
      "                     tintg =.1000\n",
      "                  tspoints = None specified\n",
      "                     tintp =.1000\n",
      "                    tsmean = None specified\n",
      "                     tintm =.1000\n",
      "                nglobalvar =3\n",
      "   nglobalvar: Will generate global output for variable:zs\n",
      "   nglobalvar: Will generate global output for variable:zb\n",
      "   nglobalvar: Will generate global output for variable:H\n",
      "                   npoints =0 (no record found, default value used)\n",
      "                  nrugauge =0 (no record found, default value used)\n",
      "                 npointvar =0 (no record found, default value used)\n",
      "                 nrugdepth =1 (no record found, default value used)\n",
      "   rugdepth =.0000 (no record found, default value used)\n",
      "                  nmeanvar =0 (no record found, default value used)\n",
      "              outputformat =netcdf (no record found, default value used)\n",
      "           outputprecision =double (no record found, default value used)\n",
      "                ncfilename = None specified\n",
      "  netcdf output to:xboutput.nc\n",
      "              remdryoutput =1 (no record found, default value used)\n",
      "  --------------------------------\n",
      "  Output projection:\n",
      "                projection = None specified\n",
      "                    rotate =1 (no record found, default value used)\n",
      "  --------------------------------\n",
      "  Wave numerics parameters:\n",
      "                    scheme =warmbeam (no record found, default value used)\n",
      "                    snells =1 (no record found, default value used)\n",
      "  --------------------------------\n",
      "  Flow numerics parameters:\n",
      "                       eps =.0050 (no record found, default value used)\n",
      "                    eps_sd =.5000 (no record found, default value used)\n",
      "                      umin =.0000 (no record found, default value used)\n",
      "                  secorder =1 (no record found, default value used)\n",
      "  --------------------------------\n",
      "  Finished reading input parameters\n",
      "  --------------------------------\n",
      "   Unknown, unused or multiple statements of parameterTHETAMIN inparams.txt\n",
      "   Unknown, unused or multiple statements of parameterTHETAMAX inparams.txt\n",
      "   Unknown, unused or multiple statements of parameterTHETANAUT inparams.txt\n",
      "   Unknown, unused or multiple statements of parameterDTHETA inparams.txt\n",
      "   Unknown, unused or multiple statements of parameterDTHETA_S inparams.txt\n",
      "  ------------------------------------\n",
      "  Building Grid and Bathymetry\n",
      "  ------------------------------------\n",
      "  Initializing .....\n",
      "  NetCDF outputformat\n",
      "   Creating netcdf variable:zs\n",
      "   Creating netcdf variable:zb\n",
      "   Creating netcdf variable:H\n",
      "  Writing file definition.\n",
      "  Setting up boundary conditions\n",
      "  Boundary conditions complete, starting computation\n",
      "  Simulation 11.1 percent complete. Average dt  0.006 seconds\n",
      "  Time remaining 40 seconds\n",
      "  Simulation 19.9 percent complete. Average dt  0.005 seconds\n",
      "  Time remaining 43 seconds\n",
      "  Simulation 29.0 percent complete. Average dt  0.005 seconds\n",
      "  Time remaining 38 seconds\n",
      "  Simulation 38.1 percent complete. Average dt  0.005 seconds\n",
      "  Time remaining 33 seconds\n",
      "  Simulation 47.9 percent complete. Average dt  0.005 seconds\n",
      "  Time remaining 27 seconds\n",
      "  Simulation 57.4 percent complete. Average dt  0.005 seconds\n",
      "  Time remaining 22 seconds\n",
      "  Simulation 66.6 percent complete. Average dt  0.005 seconds\n",
      "  Time remaining 18 seconds\n",
      "  Simulation 76.3 percent complete. Average dt  0.005 seconds\n",
      "  Time remaining 12 seconds\n",
      "  Simulation 86.3 percent complete. Average dt  0.005 seconds\n",
      "  Time remaining  7 seconds\n",
      "  Simulation 96.6 percent complete. Average dt  0.005 seconds\n",
      "  Time remaining  2 seconds\n",
      "   Duration   :   50.1406250000000       seconds\n",
      "   Timesteps  :        7557\n",
      "   Average dt :  5.293105729786952E-003  seconds\n",
      "   Unit speed :  4.146610047537637E-007  seconds/1\n",
      "  End of program xbeach\n",
      "\n"
     ]
    }
   ],
   "source": [
    "\n",
    "# Set the working directory to where the batch file is located\n",
    "working_directory = os.path.dirname(batch_file_path)\n",
    "\n",
    "try:\n",
    "    # Execute the batch file, capturing both stdout and stderr\n",
    "    result = subprocess.run(batch_file_path, check=True, shell=True, cwd=working_directory, capture_output=True, text=True)\n",
    "    \n",
    "    # Print success message and output\n",
    "    print(f\"Batch file '{batch_file_path}' executed successfully.\")\n",
    "    print(\"Output:\")\n",
    "    print(result.stdout)\n",
    "except subprocess.CalledProcessError as e:\n",
    "    # Print error message and captured stderr\n",
    "    print(f\"An error occurred while executing the batch file: {e}\")\n",
    "    print(\"Error output:\")\n",
    "    print(e.stderr)\n"
   ]
  },
  {
   "cell_type": "code",
   "execution_count": 265,
   "metadata": {},
   "outputs": [],
   "source": [
    "results = XBeachModelAnalysis(fname = \"foo\", \n",
    "                              model_path=model_dir)"
   ]
  },
  {
   "cell_type": "code",
   "execution_count": 266,
   "metadata": {},
   "outputs": [],
   "source": [
    "results.set_save_fig(False)\n",
    "results.set_plot_localcoords(False)\n",
    "results.set_plot_km_coords(False)"
   ]
  },
  {
   "cell_type": "code",
   "execution_count": 267,
   "metadata": {},
   "outputs": [
    {
     "name": "stdout",
     "output_type": "stream",
     "text": [
      "loading variable zs from file\n",
      "loading variable zb from file\n",
      "Variable already loaded\n",
      "Variable already loaded\n",
      "Variable already loaded\n",
      "Variable already loaded\n"
     ]
    },
    {
     "data": {
      "image/png": "[encoded data removed]",
      "text/plain": [
       "<Figure size 500x300 with 1 Axes>"
      ]
     },
     "metadata": {},
     "output_type": "display_data"
    },
    {
     "data": {
      "image/png": "[encoded data removed]",
      "text/plain": [
       "<Figure size 500x300 with 1 Axes>"
      ]
     },
     "metadata": {},
     "output_type": "display_data"
    },
    {
     "data": {
      "image/png": "[encoded data removed]",
      "text/plain": [
       "<Figure size 640x480 with 1 Axes>"
      ]
     },
     "metadata": {},
     "output_type": "display_data"
    }
   ],
   "source": [
    "indices = [70, 400]\n",
    "\n",
    "for index in indices:\n",
    "    fig, ax = results.fig_cross_var('zs', index, iy=0, coord=None, plot_ref_bathy=False, zmin=-1)\n",
    "\n",
    "fig, ax = results.fig_profile_change(iy=0)"
   ]
  },
  {
   "cell_type": "code",
   "execution_count": 268,
   "metadata": {},
   "outputs": [
    {
     "name": "stdout",
     "output_type": "stream",
     "text": [
      "1.0507541362077608\n"
     ]
    }
   ],
   "source": [
    "zs = results.var[\"zs\"]\n",
    "print(zs.max())"
   ]
  }
 ],
 "metadata": {
  "kernelspec": {
   "display_name": "ERDC",
   "language": "python",
   "name": "python3"
  },
  "language_info": {
   "codemirror_mode": {
    "name": "ipython",
    "version": 3
   },
   "file_extension": ".py",
   "mimetype": "text/x-python",
   "name": "python",
   "nbconvert_exporter": "python",
   "pygments_lexer": "ipython3",
   "version": "3.12.3"
  }
 },
 "nbformat": 4,
 "nbformat_minor": 2
}
